{
 "cells": [
  {
   "cell_type": "markdown",
   "metadata": {},
   "source": [
    "# Homework 6\n",
    "You need to classify digits with SVM models in this homework. Use PCA to reduce data dimensionality (80% information remain). Compare performance of linear, radial, and polynomial kernals. Tune kernal parameters using Randomsearch method."
   ]
  },
  {
   "cell_type": "code",
   "execution_count": 26,
   "metadata": {},
   "outputs": [
    {
     "name": "stdout",
     "output_type": "stream",
     "text": [
      "Original feature dimensions: 64\n",
      "Reduced feature dimensions: 13\n",
      "\n",
      "Training SVM with linear kernel\n",
      "Best parameters for linear kernel: {'C': 0.30218397440325717, 'degree': 3, 'gamma': 'scale'}\n",
      "\n",
      "Training SVM with rbf kernel\n",
      "Best parameters for rbf kernel: {'C': 8.389400292173631, 'degree': 3, 'gamma': 0.014695476192547066}\n",
      "\n",
      "Training SVM with poly kernel\n",
      "Best parameters for poly kernel: {'C': 5.588135039273247, 'degree': 3, 'gamma': 0.8542657485810173}\n",
      "\n",
      "Evaluating SVM with linear kernel\n",
      "Accuracy: 0.9556\n",
      "\n",
      "Evaluating SVM with rbf kernel\n",
      "Accuracy: 0.9204\n",
      "\n",
      "Evaluating SVM with poly kernel\n",
      "Accuracy: 0.9833\n"
     ]
    },
    {
     "data": {
      "image/png": "[encoded data removed]",
      "text/plain": [
       "<Figure size 1000x400 with 40 Axes>"
      ]
     },
     "metadata": {},
     "output_type": "display_data"
    }
   ],
   "source": [
    "%matplotlib inline\n",
    "import numpy as np\n",
    "import matplotlib.pyplot as plt\n",
    "from scipy import stats\n",
    "\n",
    "from sklearn.decomposition import PCA\n",
    "from sklearn.model_selection import RandomizedSearchCV, train_test_split\n",
    "from sklearn.svm import SVC\n",
    "from sklearn.metrics import classification_report, accuracy_score, confusion_matrix\n",
    "import numpy as np\n",
    "\n",
    "# use seaborn plotting defaults\n",
    "import seaborn as sns; sns.set()\n",
    "from sklearn import datasets, svm, metrics\n",
    "\n",
    "# The digits dataset\n",
    "digits = datasets.load_digits()\n",
    "\n",
    "def plot_digits(data):\n",
    "    fig, axes = plt.subplots(4, 10, figsize=(10, 4),\n",
    "                             subplot_kw={'xticks':[], 'yticks':[]},\n",
    "                             gridspec_kw=dict(hspace=0.1, wspace=0.1))\n",
    "    for i, ax in enumerate(axes.flat):\n",
    "        ax.imshow(data[i].reshape(8, 8),\n",
    "                  cmap='binary', interpolation='nearest',\n",
    "                  clim=(0, 16))\n",
    "plot_digits(digits.data)\n",
    "\n",
    "# Step 1: Prepare the data\n",
    "X = digits.data\n",
    "y = digits.target\n",
    "\n",
    "# Split into train and test sets\n",
    "X_train, X_test, y_train, y_test = train_test_split(X, y, test_size=0.3, random_state=0)\n",
    "\n",
    "# Step 2: Reduce dimensionality using PCA\n",
    "pca = PCA(n_components=0.8, random_state=0)  # Retain 80% variance\n",
    "X_train_pca = pca.fit_transform(X_train)\n",
    "X_test_pca = pca.transform(X_test)\n",
    "\n",
    "print(f\"Original feature dimensions: {X.shape[1]}\")\n",
    "print(f\"Reduced feature dimensions: {X_train_pca.shape[1]}\")\n",
    "\n",
    "# Step 3 & 4: Train SVM models with hyperparameter tuning\n",
    "kernels = ['linear', 'rbf', 'poly']\n",
    "best_models = {}\n",
    "for kernel in kernels:\n",
    "    print(f\"\\nTraining SVM with {kernel} kernel\")\n",
    "    \n",
    "    # Define parameter grid\n",
    "    param_grid = {\n",
    "        'C': stats.uniform(0.1, 10),  # Regularization parameter\n",
    "        'gamma': stats.uniform(0.01, 1) if kernel != 'linear' else ['scale'],  # Only for RBF and poly\n",
    "        'degree': stats.randint(2, 5) if kernel == 'poly' else [3]  # Only for poly\n",
    "    }\n",
    "    \n",
    "    # Set up the SVM model\n",
    "    svc = SVC(kernel=kernel, random_state=42)\n",
    "    search = RandomizedSearchCV(svc, param_distributions=param_grid, n_iter=50, cv=5, scoring='accuracy', random_state=0) # Has the 5-Cross-Fold Validation\n",
    "    \n",
    "    # Fit the model\n",
    "    search.fit(X_train_pca, y_train)\n",
    "    best_models[kernel] = search.best_estimator_\n",
    "    \n",
    "    print(f\"Best parameters for {kernel} kernel: {search.best_params_}\")\n",
    "\n",
    "# Step 5: Compare model performances\n",
    "for kernel, model in best_models.items():\n",
    "    print(f\"\\nEvaluating SVM with {kernel} kernel\")\n",
    "    y_pred = model.predict(X_test_pca)\n",
    "    acc = accuracy_score(y_test, y_pred)\n",
    "    print(f\"Accuracy: {acc:.4f}\")\n",
    "    #print(\"Classification Report:\")\n",
    "    #print(classification_report(y_test, y_pred))\n",
    "    #print(\"Confusion Matrix:\")\n",
    "    #print(confusion_matrix(y_test, y_pred))\n"
   ]
  },
  {
   "cell_type": "code",
   "execution_count": 39,
   "metadata": {},
   "outputs": [
    {
     "name": "stdout",
     "output_type": "stream",
     "text": [
      "\n",
      "Evaluating SVM with linear kernel\n",
      "0.9315\n",
      "\n",
      "Evaluating SVM with rbf kernel\n",
      "0.7148\n",
      "\n",
      "Evaluating SVM with poly kernel\n",
      "0.9574\n"
     ]
    }
   ],
   "source": [
    "# Step 5: Compare model performances\n",
    "from sklearn.model_selection import cross_val_score\n",
    "for kernel, model in best_models.items():\n",
    "    print(f\"\\nEvaluating SVM with {kernel} kernel\")\n",
    "    scores = cross_val_score(model, X_test_pca, y_test, cv=5)\n",
    "    tot_score = 0\n",
    "    for score in scores:\n",
    "        tot_score += score\n",
    "    tot_score = tot_score/len(scores)\n",
    "    print(f\"{tot_score:.4f}\")"
   ]
  },
  {
   "cell_type": "code",
   "execution_count": 40,
   "metadata": {},
   "outputs": [
    {
     "data": {
      "image/png": "[encoded data removed]",
      "text/plain": [
       "<Figure size 800x800 with 15 Axes>"
      ]
     },
     "metadata": {},
     "output_type": "display_data"
    }
   ],
   "source": [
    "#JUST FOR FUN!\n",
    "\n",
    "pca = PCA(n_components=.8, random_state=0)\n",
    "pca.fit(X_train)\n",
    "\n",
    "# Plot the principal components\n",
    "def plot_pca_components(components, title=\"PCA Components\"):\n",
    "    fig, axes = plt.subplots(5, 3, figsize=(8, 8),\n",
    "                             subplot_kw={'xticks': [], 'yticks': []},\n",
    "                             gridspec_kw=dict(hspace=0.1, wspace=0.1))\n",
    "    for i, ax in enumerate(axes.flat):\n",
    "        if i == 13:\n",
    "            break\n",
    "        ax.imshow(components[i].reshape(8, 8),\n",
    "                  cmap='binary', interpolation='nearest')\n",
    "    fig.suptitle(title, fontsize=14)\n",
    "    plt.show()\n",
    "\n",
    "# Plot them (kinda just stole the function from previous cell and modified a little bit)\n",
    "\n",
    "plot_pca_components(pca.components_)\n",
    "\n",
    "#JUST FOR FUN! - Jason :)"
   ]
  }
 ],
 "metadata": {
  "kernelspec": {
   "display_name": "Python (MachineLearning)",
   "language": "python",
   "name": "machinelearning"
  },
  "language_info": {
   "codemirror_mode": {
    "name": "ipython",
    "version": 3
   },
   "file_extension": ".py",
   "mimetype": "text/x-python",
   "name": "python",
   "nbconvert_exporter": "python",
   "pygments_lexer": "ipython3",
   "version": "3.8.10"
  }
 },
 "nbformat": 4,
 "nbformat_minor": 4
}
